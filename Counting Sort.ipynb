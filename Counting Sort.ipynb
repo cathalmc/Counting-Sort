{
 "cells": [
  {
   "cell_type": "code",
   "execution_count": 2,
   "metadata": {},
   "outputs": [
    {
     "name": "stdout",
     "output_type": "stream",
     "text": [
      "[0, 0, 1, 2, 2, 3, 3, 3, 3, 4, 4, 5, 5, 5, 6, 6, 7, 7, 8, 8, 8, 9, 9]\n"
     ]
    }
   ],
   "source": [
    "#Trade some time complexity for small amount of space complexity in this wonderful O(n+k) integer sorting algorithm\n",
    "#Where n is the number of entries to sort, and k is the range of the integers\n",
    "\n",
    "def CS(ip,k,lenx):\n",
    "    #in other examples of this algorithm you will see a vector of length k+1 used to store the counts\n",
    "    #I have found it useful in my cases to have a zero element at the start, so the length is k+2\n",
    "    count = [0 for _ in range(k+2)]  \n",
    "    output = [0 for _ in range(lenx)]\n",
    "    \n",
    "    #This is the histogram step where we get counts of each integer\n",
    "    for i in range(0,lenx):\n",
    "        count[ip[i]+1] +=1 #again slight modification to preserve the zero element at the start\n",
    "    \n",
    "    #Resuse the count variable in the calculation of the cumulative sum\n",
    "    for i in range(1,k+2):\n",
    "        count[i]+=count[i-1]\n",
    "    \n",
    "    #The cumulative sum tells us the index in which to place each element\n",
    "    #If there are repeated elements, then we need to increment the cumulative sum by 1\n",
    "    for i in range(len(x)):\n",
    "        output[count[ip[i]]] = ip[i]\n",
    "        count[x[i]]+=1\n",
    "    \n",
    "    #sorting is not done in-place so we need to return an output \n",
    "    return output\n",
    "\n",
    "\n",
    "#input\n",
    "x = [5,3,8,6,3,8,7,5,3,2,1,7,8,9,9,0,4,4,0,5,3,2,6]\n",
    "\n",
    "#sorted output\n",
    "y = CS(x,max(x),len(x))\n",
    "print(y)"
   ]
  }
 ],
 "metadata": {
  "kernelspec": {
   "display_name": "Python 3",
   "language": "python",
   "name": "python3"
  },
  "language_info": {
   "codemirror_mode": {
    "name": "ipython",
    "version": 3
   },
   "file_extension": ".py",
   "mimetype": "text/x-python",
   "name": "python",
   "nbconvert_exporter": "python",
   "pygments_lexer": "ipython3",
   "version": "3.7.6"
  }
 },
 "nbformat": 4,
 "nbformat_minor": 4
}
